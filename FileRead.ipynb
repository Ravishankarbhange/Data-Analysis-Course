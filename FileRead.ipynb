{
 "cells": [
  {
   "cell_type": "code",
   "execution_count": 1,
   "id": "33d72fd3-d387-4cd9-997d-91b992294da3",
   "metadata": {},
   "outputs": [
    {
     "name": "stdout",
     "output_type": "stream",
     "text": [
      "Ravi Shankar\n"
     ]
    }
   ],
   "source": [
    "print(\"Ravi Shankar\")"
   ]
  },
  {
   "cell_type": "code",
   "execution_count": 3,
   "id": "ad485b93-296a-4cce-a380-109ce20a06e6",
   "metadata": {},
   "outputs": [
    {
     "data": {
      "text/plain": [
       "8788"
      ]
     },
     "execution_count": 3,
     "metadata": {},
     "output_type": "execute_result"
    }
   ],
   "source": [
    "1+8787"
   ]
  },
  {
   "cell_type": "code",
   "execution_count": 5,
   "id": "fba36351-f431-427f-b5d1-18ef49fcb52c",
   "metadata": {},
   "outputs": [
    {
     "data": {
      "text/plain": [
       "38686"
      ]
     },
     "execution_count": 5,
     "metadata": {},
     "output_type": "execute_result"
    }
   ],
   "source": [
    "34343+4343"
   ]
  },
  {
   "cell_type": "code",
   "execution_count": 7,
   "id": "21ab49a3-cf94-4ad4-aa1a-6236a563c568",
   "metadata": {},
   "outputs": [],
   "source": [
    "a = 4343-4343"
   ]
  },
  {
   "cell_type": "code",
   "execution_count": 9,
   "id": "e14d0114-cb8d-4c56-ba47-2b56a9a861bd",
   "metadata": {},
   "outputs": [
    {
     "name": "stdout",
     "output_type": "stream",
     "text": [
      "0\n"
     ]
    }
   ],
   "source": [
    "print(a)"
   ]
  },
  {
   "cell_type": "code",
   "execution_count": 26,
   "id": "08f82d08-c8ed-4c96-9343-4a607c9ab0f4",
   "metadata": {},
   "outputs": [],
   "source": [
    "fd = open('data.txt','r')\n",
    "productList = fd.read()"
   ]
  },
  {
   "cell_type": "code",
   "execution_count": 54,
   "id": "6637b108-1a9c-4411-bf24-f769b052bb80",
   "metadata": {},
   "outputs": [
    {
     "name": "stdout",
     "output_type": "stream",
     "text": [
      "1,Mouse,20,5\n",
      "2,keyboard,50,10\n",
      "3,charger,150,3\n",
      "4,headset,200,30\n",
      "5,plugbox,80,8\n"
     ]
    }
   ],
   "source": [
    "pl = productList.split(\"\\n\")\n",
    "pl\n",
    "for product in pl:\n",
    "    id, product, price, qua = product.split(\" \")\n",
    "    print(str(id)+ \",\"+ str(product)+ \",\"+ str(price)+ \",\"+ qua)"
   ]
  },
  {
   "cell_type": "code",
   "execution_count": 91,
   "id": "d3a575aa-310a-43bf-9b7e-e2f31596c641",
   "metadata": {},
   "outputs": [],
   "source": [
    "import os"
   ]
  },
  {
   "cell_type": "code",
   "execution_count": 58,
   "id": "a3bd721c-f8f6-44fa-bf16-7c21f31ee605",
   "metadata": {},
   "outputs": [
    {
     "data": {
      "text/plain": [
       "'C:\\\\Users\\\\bhang\\\\Documents\\\\Python'"
      ]
     },
     "execution_count": 58,
     "metadata": {},
     "output_type": "execute_result"
    }
   ],
   "source": [
    "os.getcwd()"
   ]
  },
  {
   "cell_type": "code",
   "execution_count": 60,
   "id": "7ddaae1e-b389-4226-b65f-9b433815239a",
   "metadata": {},
   "outputs": [],
   "source": [
    "os.chdir(\"../\")"
   ]
  },
  {
   "cell_type": "code",
   "execution_count": 93,
   "id": "680b85e5-b843-40af-921e-8d2dfb8c74ef",
   "metadata": {},
   "outputs": [
    {
     "data": {
      "text/plain": [
       "'C:\\\\Users\\\\bhang\\\\Documents\\\\Python'"
      ]
     },
     "execution_count": 93,
     "metadata": {},
     "output_type": "execute_result"
    }
   ],
   "source": [
    "os.getcwd()"
   ]
  },
  {
   "cell_type": "code",
   "execution_count": 66,
   "id": "9793394b-3f35-4c15-b3ad-79cabd7dcb13",
   "metadata": {},
   "outputs": [],
   "source": [
    "os.chdir(\"./Python\")"
   ]
  },
  {
   "cell_type": "code",
   "execution_count": 97,
   "id": "b06e8851-e70b-4448-bdaa-8cec098c29df",
   "metadata": {},
   "outputs": [
    {
     "data": {
      "text/plain": [
       "'C:\\\\Users\\\\bhang\\\\Documents\\\\Python'"
      ]
     },
     "execution_count": 97,
     "metadata": {},
     "output_type": "execute_result"
    }
   ],
   "source": [
    "os.mkdir(\"C:/Users/bhang/Documents/Python/dir/dir2\")\n",
    "os.getcwd()"
   ]
  },
  {
   "cell_type": "code",
   "execution_count": 79,
   "id": "4187f7fd-5728-4ed9-88e8-dad8c50edd8d",
   "metadata": {},
   "outputs": [
    {
     "data": {
      "text/plain": [
       "'C:\\\\Users\\\\bhang\\\\Documents\\\\Python'"
      ]
     },
     "execution_count": 79,
     "metadata": {},
     "output_type": "execute_result"
    }
   ],
   "source": [
    "os.getcwd()"
   ]
  },
  {
   "cell_type": "code",
   "execution_count": 99,
   "id": "29e98d62-e914-4da6-9b96-0c866e56ba54",
   "metadata": {},
   "outputs": [],
   "source": [
    "os.chdir('dir')\n"
   ]
  },
  {
   "cell_type": "code",
   "execution_count": 101,
   "id": "b76e1d79-8f7e-4f14-aed4-9518cc25da8c",
   "metadata": {},
   "outputs": [],
   "source": [
    "os.rmdir('dir2')"
   ]
  },
  {
   "cell_type": "code",
   "execution_count": null,
   "id": "57c437de-916c-4903-af43-1df2e9b3c7bb",
   "metadata": {},
   "outputs": [],
   "source": []
  }
 ],
 "metadata": {
  "kernelspec": {
   "display_name": "Python [conda env:base] *",
   "language": "python",
   "name": "conda-base-py"
  },
  "language_info": {
   "codemirror_mode": {
    "name": "ipython",
    "version": 3
   },
   "file_extension": ".py",
   "mimetype": "text/x-python",
   "name": "python",
   "nbconvert_exporter": "python",
   "pygments_lexer": "ipython3",
   "version": "3.12.7"
  }
 },
 "nbformat": 4,
 "nbformat_minor": 5
}
