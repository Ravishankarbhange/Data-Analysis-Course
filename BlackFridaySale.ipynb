{
 "cells": [
  {
   "cell_type": "code",
   "execution_count": null,
   "id": "ff6a2344-6af4-4a77-9fe7-ca04bbf35c20",
   "metadata": {},
   "outputs": [],
   "source": []
  }
 ],
 "metadata": {
  "kernelspec": {
   "display_name": "",
   "name": ""
  },
  "language_info": {
   "name": ""
  }
 },
 "nbformat": 4,
 "nbformat_minor": 5
}
