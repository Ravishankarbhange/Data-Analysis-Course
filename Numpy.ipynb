{
 "cells": [
  {
   "cell_type": "code",
   "execution_count": 1,
   "id": "08f79933-c2c9-459f-b58b-9f7d88c64c78",
   "metadata": {},
   "outputs": [],
   "source": [
    "import numpy as np"
   ]
  },
  {
   "cell_type": "code",
   "execution_count": 3,
   "id": "61175515-5d41-4095-856c-db994866586b",
   "metadata": {},
   "outputs": [],
   "source": [
    "list = [1,2,3,4,5]"
   ]
  },
  {
   "cell_type": "code",
   "execution_count": 5,
   "id": "b648de4c-4a31-4bd9-a534-8413e075b5b6",
   "metadata": {},
   "outputs": [
    {
     "data": {
      "text/plain": [
       "array([1, 2, 3, 4, 5])"
      ]
     },
     "execution_count": 5,
     "metadata": {},
     "output_type": "execute_result"
    }
   ],
   "source": [
    "a = np.array(list)\n",
    "a"
   ]
  },
  {
   "cell_type": "code",
   "execution_count": 9,
   "id": "97bc3774-cec8-4614-9c6c-8a7deae0dbde",
   "metadata": {},
   "outputs": [
    {
     "data": {
      "text/plain": [
       "array([ 1,  6, 11, 16, 21, 26, 31, 36, 41, 46])"
      ]
     },
     "execution_count": 9,
     "metadata": {},
     "output_type": "execute_result"
    }
   ],
   "source": [
    "np.arange(1,50,5)"
   ]
  },
  {
   "cell_type": "code",
   "execution_count": 21,
   "id": "e71aff34-67cd-4b17-888b-fca00a78965c",
   "metadata": {},
   "outputs": [],
   "source": [
    "tdarr = np.array([[1,2,3],[4,5,6]])"
   ]
  },
  {
   "cell_type": "code",
   "execution_count": 23,
   "id": "db2290bb-9282-491a-97f1-1f3e3fc97b2f",
   "metadata": {},
   "outputs": [
    {
     "data": {
      "text/plain": [
       "(2, 3)"
      ]
     },
     "execution_count": 23,
     "metadata": {},
     "output_type": "execute_result"
    }
   ],
   "source": [
    "tdarr.shape"
   ]
  },
  {
   "cell_type": "code",
   "execution_count": 27,
   "id": "a4450deb-5e51-4e34-a106-379a06168353",
   "metadata": {},
   "outputs": [
    {
     "data": {
      "text/plain": [
       "dtype('int32')"
      ]
     },
     "execution_count": 27,
     "metadata": {},
     "output_type": "execute_result"
    }
   ],
   "source": [
    "tdarr.dtype"
   ]
  },
  {
   "cell_type": "code",
   "execution_count": 33,
   "id": "680ab0cf-9b73-472c-827f-a19a1f8de530",
   "metadata": {},
   "outputs": [
    {
     "data": {
      "text/plain": [
       "2"
      ]
     },
     "execution_count": 33,
     "metadata": {},
     "output_type": "execute_result"
    }
   ],
   "source": [
    "tdarr.ndim"
   ]
  },
  {
   "cell_type": "code",
   "execution_count": 43,
   "id": "8e6a5749-b8b1-46ab-af7d-36887b23b100",
   "metadata": {},
   "outputs": [],
   "source": [
    "farr = np.array(tdarr, ndmin = 3)"
   ]
  },
  {
   "cell_type": "code",
   "execution_count": 45,
   "id": "3e2db528-8b49-4b62-9dc3-20fc171f466f",
   "metadata": {},
   "outputs": [
    {
     "data": {
      "text/plain": [
       "array([[[1, 2, 3],\n",
       "        [4, 5, 6]]])"
      ]
     },
     "execution_count": 45,
     "metadata": {},
     "output_type": "execute_result"
    }
   ],
   "source": [
    "farr"
   ]
  },
  {
   "cell_type": "code",
   "execution_count": null,
   "id": "257d9e79-513f-47f1-97a3-7f9b94360dc4",
   "metadata": {},
   "outputs": [],
   "source": []
  }
 ],
 "metadata": {
  "kernelspec": {
   "display_name": "Python [conda env:base] *",
   "language": "python",
   "name": "conda-base-py"
  },
  "language_info": {
   "codemirror_mode": {
    "name": "ipython",
    "version": 3
   },
   "file_extension": ".py",
   "mimetype": "text/x-python",
   "name": "python",
   "nbconvert_exporter": "python",
   "pygments_lexer": "ipython3",
   "version": "3.12.7"
  }
 },
 "nbformat": 4,
 "nbformat_minor": 5
}
